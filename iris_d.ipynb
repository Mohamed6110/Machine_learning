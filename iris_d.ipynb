{
 "cells": [
  {
   "cell_type": "markdown",
   "id": "5e29d2a5",
   "metadata": {},
   "source": [
    "# Import Required Libraries\n",
    "This cell imports all the necessary libraries for data manipulation, visualization, and machine learning."
   ]
  },
  {
   "cell_type": "code",
   "execution_count": 11,
   "id": "9a5a35f9",
   "metadata": {},
   "outputs": [],
   "source": [
    "import pandas as pd\n",
    "import numpy as np\n",
    "import matplotlib.pyplot as plt\n",
    "import seaborn as sns\n",
    "from sklearn.model_selection import train_test_split\n",
    "# from sklearn.feature_selection import SelectPercentile,chi2,SelectFromModel\n",
    "from sklearn.metrics import classification_report,roc_curve,roc_auc_score,confusion_matrix\n",
    "from sklearn.linear_model import LogisticRegression,SGDClassifier\n",
    "from sklearn.ensemble import RandomForestClassifier\n",
    "from sklearn.tree import DecisionTreeClassifier\n",
    "from sklearn.svm import SVC"
   ]
  },
  {
   "cell_type": "markdown",
   "id": "9395c4ac",
   "metadata": {},
   "source": [
    "# Load Dataset\n",
    "This cell loads the Iris dataset from a CSV file and displays the first few rows."
   ]
  },
  {
   "cell_type": "code",
   "execution_count": 2,
   "id": "bc005219",
   "metadata": {},
   "outputs": [
    {
     "data": {
      "text/html": [
       "<div>\n",
       "<style scoped>\n",
       "    .dataframe tbody tr th:only-of-type {\n",
       "        vertical-align: middle;\n",
       "    }\n",
       "\n",
       "    .dataframe tbody tr th {\n",
       "        vertical-align: top;\n",
       "    }\n",
       "\n",
       "    .dataframe thead th {\n",
       "        text-align: right;\n",
       "    }\n",
       "</style>\n",
       "<table border=\"1\" class=\"dataframe\">\n",
       "  <thead>\n",
       "    <tr style=\"text-align: right;\">\n",
       "      <th></th>\n",
       "      <th>sepal_length</th>\n",
       "      <th>sepal_width</th>\n",
       "      <th>petal_length</th>\n",
       "      <th>petal_width</th>\n",
       "      <th>species</th>\n",
       "    </tr>\n",
       "  </thead>\n",
       "  <tbody>\n",
       "    <tr>\n",
       "      <th>0</th>\n",
       "      <td>5.1</td>\n",
       "      <td>3.5</td>\n",
       "      <td>1.4</td>\n",
       "      <td>0.2</td>\n",
       "      <td>Iris-setosa</td>\n",
       "    </tr>\n",
       "    <tr>\n",
       "      <th>1</th>\n",
       "      <td>4.9</td>\n",
       "      <td>3.0</td>\n",
       "      <td>1.4</td>\n",
       "      <td>0.2</td>\n",
       "      <td>Iris-setosa</td>\n",
       "    </tr>\n",
       "    <tr>\n",
       "      <th>2</th>\n",
       "      <td>4.7</td>\n",
       "      <td>3.2</td>\n",
       "      <td>1.3</td>\n",
       "      <td>0.2</td>\n",
       "      <td>Iris-setosa</td>\n",
       "    </tr>\n",
       "    <tr>\n",
       "      <th>3</th>\n",
       "      <td>4.6</td>\n",
       "      <td>3.1</td>\n",
       "      <td>1.5</td>\n",
       "      <td>0.2</td>\n",
       "      <td>Iris-setosa</td>\n",
       "    </tr>\n",
       "    <tr>\n",
       "      <th>4</th>\n",
       "      <td>5.0</td>\n",
       "      <td>3.6</td>\n",
       "      <td>1.4</td>\n",
       "      <td>0.2</td>\n",
       "      <td>Iris-setosa</td>\n",
       "    </tr>\n",
       "  </tbody>\n",
       "</table>\n",
       "</div>"
      ],
      "text/plain": [
       "   sepal_length  sepal_width  petal_length  petal_width      species\n",
       "0           5.1          3.5           1.4          0.2  Iris-setosa\n",
       "1           4.9          3.0           1.4          0.2  Iris-setosa\n",
       "2           4.7          3.2           1.3          0.2  Iris-setosa\n",
       "3           4.6          3.1           1.5          0.2  Iris-setosa\n",
       "4           5.0          3.6           1.4          0.2  Iris-setosa"
      ]
     },
     "execution_count": 2,
     "metadata": {},
     "output_type": "execute_result"
    }
   ],
   "source": [
    "data=pd.read_csv(r\"C:\\Users\\AL-Renad\\Documents\\playing\\mohammed\\1 saving_dataset\\Iris_Data.csv\")\n",
    "data.head()"
   ]
  },
  {
   "cell_type": "markdown",
   "id": "a4a368f4",
   "metadata": {},
   "source": [
    "# Display Column Names\n",
    "This cell displays the column names of the dataset."
   ]
  },
  {
   "cell_type": "code",
   "execution_count": 3,
   "id": "00fa05cb",
   "metadata": {},
   "outputs": [
    {
     "data": {
      "text/plain": [
       "Index(['sepal_length', 'sepal_width', 'petal_length', 'petal_width',\n",
       "       'species'],\n",
       "      dtype='object')"
      ]
     },
     "execution_count": 3,
     "metadata": {},
     "output_type": "execute_result"
    }
   ],
   "source": [
    "data.columns"
   ]
  },
  {
   "cell_type": "markdown",
   "id": "170ec16d",
   "metadata": {},
   "source": [
    "# Dataset Information\n",
    "This cell provides information about the dataset, including column data types and non-null counts."
   ]
  },
  {
   "cell_type": "code",
   "execution_count": 4,
   "id": "994af7d9",
   "metadata": {},
   "outputs": [
    {
     "name": "stdout",
     "output_type": "stream",
     "text": [
      "<class 'pandas.core.frame.DataFrame'>\n",
      "RangeIndex: 150 entries, 0 to 149\n",
      "Data columns (total 5 columns):\n",
      " #   Column        Non-Null Count  Dtype  \n",
      "---  ------        --------------  -----  \n",
      " 0   sepal_length  150 non-null    float64\n",
      " 1   sepal_width   150 non-null    float64\n",
      " 2   petal_length  150 non-null    float64\n",
      " 3   petal_width   150 non-null    float64\n",
      " 4   species       150 non-null    object \n",
      "dtypes: float64(4), object(1)\n",
      "memory usage: 6.0+ KB\n"
     ]
    }
   ],
   "source": [
    "data.info()"
   ]
  },
  {
   "cell_type": "markdown",
   "id": "b6e5911b",
   "metadata": {},
   "source": [
    "# Check for Duplicates\n",
    "This cell checks for duplicate rows in the dataset."
   ]
  },
  {
   "cell_type": "code",
   "execution_count": 5,
   "id": "ecdf883d",
   "metadata": {},
   "outputs": [
    {
     "data": {
      "text/plain": [
       "0      False\n",
       "1      False\n",
       "2      False\n",
       "3      False\n",
       "4      False\n",
       "       ...  \n",
       "145    False\n",
       "146    False\n",
       "147    False\n",
       "148    False\n",
       "149    False\n",
       "Length: 150, dtype: bool"
      ]
     },
     "execution_count": 5,
     "metadata": {},
     "output_type": "execute_result"
    }
   ],
   "source": [
    "data.duplicated()"
   ]
  },
  {
   "cell_type": "markdown",
   "id": "0b6d9c6a",
   "metadata": {},
   "source": [
    "# Count Duplicate Rows\n",
    "This cell counts the number of duplicate rows in the dataset."
   ]
  },
  {
   "cell_type": "code",
   "execution_count": 6,
   "id": "24e8fec4",
   "metadata": {},
   "outputs": [
    {
     "data": {
      "text/plain": [
       "3"
      ]
     },
     "execution_count": 6,
     "metadata": {},
     "output_type": "execute_result"
    }
   ],
   "source": [
    "data.duplicated().sum()"
   ]
  },
  {
   "cell_type": "markdown",
   "id": "28d86a88",
   "metadata": {},
   "source": [
    "# Remove Duplicate Rows\n",
    "This cell removes duplicate rows from the dataset."
   ]
  },
  {
   "cell_type": "code",
   "execution_count": 3,
   "id": "2ffc5fdc",
   "metadata": {},
   "outputs": [],
   "source": [
    "data=data.drop_duplicates()"
   ]
  },
  {
   "cell_type": "markdown",
   "id": "81e3f636",
   "metadata": {},
   "source": [
    "# Dataset Shape\n",
    "This cell displays the shape of the dataset (number of rows and columns)."
   ]
  },
  {
   "cell_type": "code",
   "execution_count": 4,
   "id": "46d7448f",
   "metadata": {},
   "outputs": [
    {
     "data": {
      "text/plain": [
       "(147, 5)"
      ]
     },
     "execution_count": 4,
     "metadata": {},
     "output_type": "execute_result"
    }
   ],
   "source": [
    "data.shape"
   ]
  },
  {
   "cell_type": "markdown",
   "id": "e893da5f",
   "metadata": {},
   "source": [
    "# Dataset Description\n",
    "This cell provides descriptive statistics for the dataset."
   ]
  },
  {
   "cell_type": "code",
   "execution_count": 9,
   "metadata": {},
   "outputs": [
    {
     "data": {
      "text/html": [
       "<div>\n",
       "<style scoped>\n",
       "    .dataframe tbody tr th:only-of-type {\n",
       "        vertical-align: middle;\n",
       "    }\n",
       "\n",
       "    .dataframe tbody tr th {\n",
       "        vertical-align: top;\n",
       "    }\n",
       "\n",
       "    .dataframe thead th {\n",
       "        text-align: right;\n",
       "    }\n",
       "</style>\n",
       "<table border=\"1\" class=\"dataframe\">\n",
       "  <thead>\n",
       "    <tr style=\"text-align: right;\">\n",
       "      <th></th>\n",
       "      <th>sepal_length</th>\n",
       "      <th>sepal_width</th>\n",
       "      <th>petal_length</th>\n",
       "      <th>petal_width</th>\n",
       "    </tr>\n",
       "  </thead>\n",
       "  <tbody>\n",
       "    <tr>\n",
       "      <th>count</th>\n",
       "      <td>147.000000</td>\n",
       "      <td>147.000000</td>\n",
       "      <td>147.000000</td>\n",
       "      <td>147.000000</td>\n",
       "    </tr>\n",
       "    <tr>\n",
       "      <th>mean</th>\n",
       "      <td>5.856463</td>\n",
       "      <td>3.055782</td>\n",
       "      <td>3.780272</td>\n",
       "      <td>1.208844</td>\n",
       "    </tr>\n",
       "    <tr>\n",
       "      <th>std</th>\n",
       "      <td>0.829100</td>\n",
       "      <td>0.437009</td>\n",
       "      <td>1.759111</td>\n",
       "      <td>0.757874</td>\n",
       "    </tr>\n",
       "    <tr>\n",
       "      <th>min</th>\n",
       "      <td>4.300000</td>\n",
       "      <td>2.000000</td>\n",
       "      <td>1.000000</td>\n",
       "      <td>0.100000</td>\n",
       "    </tr>\n",
       "    <tr>\n",
       "      <th>25%</th>\n",
       "      <td>5.100000</td>\n",
       "      <td>2.800000</td>\n",
       "      <td>1.600000</td>\n",
       "      <td>0.300000</td>\n",
       "    </tr>\n",
       "    <tr>\n",
       "      <th>50%</th>\n",
       "      <td>5.800000</td>\n",
       "      <td>3.000000</td>\n",
       "      <td>4.400000</td>\n",
       "      <td>1.300000</td>\n",
       "    </tr>\n",
       "    <tr>\n",
       "      <th>75%</th>\n",
       "      <td>6.400000</td>\n",
       "      <td>3.300000</td>\n",
       "      <td>5.100000</td>\n",
       "      <td>1.800000</td>\n",
       "    </tr>\n",
       "    <tr>\n",
       "      <th>max</th>\n",
       "      <td>7.900000</td>\n",
       "      <td>4.400000</td>\n",
       "      <td>6.900000</td>\n",
       "      <td>2.500000</td>\n",
       "    </tr>\n",
       "  </tbody>\n",
       "</table>\n",
       "</div>"
      ],
      "text/plain": [
       "       sepal_length  sepal_width  petal_length  petal_width\n",
       "count    147.000000   147.000000    147.000000   147.000000\n",
       "mean       5.856463     3.055782      3.780272     1.208844\n",
       "std        0.829100     0.437009      1.759111     0.757874\n",
       "min        4.300000     2.000000      1.000000     0.100000\n",
       "25%        5.100000     2.800000      1.600000     0.300000\n",
       "50%        5.800000     3.000000      4.400000     1.300000\n",
       "75%        6.400000     3.300000      5.100000     1.800000\n",
       "max        7.900000     4.400000      6.900000     2.500000"
      ]
     },
     "execution_count": 9,
     "metadata": {},
     "output_type": "execute_result"
    }
   ],
   "source": [
    "data.describe()"
   ]
  },
  {
   "cell_type": "markdown",
   "id": "0c7b86d1",
   "metadata": {},
   "source": [
    "# Check for Missing Values\n",
    "This cell checks for missing values in the dataset."
   ]
  },
  {
   "cell_type": "code",
   "execution_count": 10,
   "id": "7b410d9b",
   "metadata": {},
   "outputs": [
    {
     "data": {
      "text/plain": [
       "sepal_length    0\n",
       "sepal_width     0\n",
       "petal_length    0\n",
       "petal_width     0\n",
       "species         0\n",
       "dtype: int64"
      ]
     },
     "execution_count": 10,
     "metadata": {},
     "output_type": "execute_result"
    }
   ],
   "source": [
    "data.isnull().sum()"
   ]
  },
  {
   "cell_type": "markdown",
   "id": "87ad036f",
   "metadata": {},
   "source": [
    "# Check for NA Values\n",
    "This cell checks for NA values in the dataset."
   ]
  },
  {
   "cell_type": "code",
   "execution_count": 11,
   "id": "dad4c15a",
   "metadata": {},
   "outputs": [
    {
     "data": {
      "text/plain": [
       "sepal_length    0\n",
       "sepal_width     0\n",
       "petal_length    0\n",
       "petal_width     0\n",
       "species         0\n",
       "dtype: int64"
      ]
     },
     "execution_count": 11,
     "metadata": {},
     "output_type": "execute_result"
    }
   ],
   "source": [
    "data.isna().sum()"
   ]
  },
  {
   "cell_type": "markdown",
   "id": "0b3b4f5c",
   "metadata": {},
   "source": [
    "# Pairplot Visualization\n",
    "This cell generates a pairplot to visualize relationships between features."
   ]
  },
  {
   "cell_type": "code",
   "execution_count": 12,
   "id": "03762d44",
   "metadata": {},
   "outputs": [
    {
     "data": {
      "text/plain": [
       "<seaborn.axisgrid.PairGrid at 0x22fa40cc640>"
      ]
     },
     "execution_count": 12,
     "metadata": {},
     "output_type": "execute_result"
    },
    {
     "data": {
      "image/png": "[encoded data removed]",
      "text/plain": [
       "<Figure size 720x720 with 20 Axes>"
      ]
     },
     "metadata": {
      "needs_background": "light"
     },
     "output_type": "display_data"
    }
   ],
   "source": [
    "sns.pairplot(pd.DataFrame(data,columns=data.columns))"
   ]
  },
  {
   "cell_type": "markdown",
   "id": "e1c6697a",
   "metadata": {},
   "source": [
    "# Split Features and Target\n",
    "This cell separates the dataset into features (X) and target (y)."
   ]
  },
  {
   "cell_type": "code",
   "execution_count": 5,
   "id": "a54a893b",
   "metadata": {},
   "outputs": [
    {
     "name": "stdout",
     "output_type": "stream",
     "text": [
      "(147, 4)\n",
      "(147,)\n"
     ]
    }
   ],
   "source": [
    "X=data.iloc[:,:-1]\n",
    "print(X.shape)\n",
    "y=data.iloc[:,-1]\n",
    "print(y.shape)"
   ]
  },
  {
   "cell_type": "markdown",
   "id": "4069d446",
   "metadata": {},
   "source": [
    "# Scatter Plot of Features\n",
    "This cell generates scatter plots to visualize relationships between features."
   ]
  },
  {
   "cell_type": "code",
   "execution_count": 28,
   "id": "c7634b03",
   "metadata": {},
   "outputs": [
    {
     "data": {
      "text/plain": [
       "<matplotlib.legend.Legend at 0x22faf1a2bb0>"
      ]
     },
     "execution_count": 28,
     "metadata": {},
     "output_type": "execute_result"
    },
    {
     "data": {
      "image/png": "[encoded data removed]",
      "text/plain": [
       "<Figure size 432x288 with 2 Axes>"
      ]
     },
     "metadata": {
      "needs_background": "light"
     },
     "output_type": "display_data"
    }
   ],
   "source": [
    "plt.scatter(X.sepal_length,X.sepal_width,label='sepal')\n",
    "plt.scatter(X.petal_length,X.petal_width,label=\"petal\")\n",
    "plt.legend()\n",
    "plt.colorbar()\n",
    "plt.legend()"
   ]
  },
  {
   "cell_type": "markdown",
   "id": "de86b77b",
   "metadata": {},
   "source": [
    "# Histogram of Sepal Length\n",
    "This cell generates a histogram to visualize the distribution of sepal length."
   ]
  },
  {
   "cell_type": "code",
   "execution_count": 23,
   "id": "956e3ef4",
   "metadata": {},
   "outputs": [
    {
     "data": {
      "text/plain": [
       "(array([ 4.,  1.,  4.,  2.,  5., 14.,  9.,  4.,  1.,  6., 13.,  8.,  6.,\n",
       "         3.,  6., 10.,  9.,  7.,  5.,  2., 11.,  4.,  1.,  1.,  4.,  1.,\n",
       "         0.,  1.,  4.,  1.]),\n",
       " array([4.3 , 4.42, 4.54, 4.66, 4.78, 4.9 , 5.02, 5.14, 5.26, 5.38, 5.5 ,\n",
       "        5.62, 5.74, 5.86, 5.98, 6.1 , 6.22, 6.34, 6.46, 6.58, 6.7 , 6.82,\n",
       "        6.94, 7.06, 7.18, 7.3 , 7.42, 7.54, 7.66, 7.78, 7.9 ]),\n",
       " <BarContainer object of 30 artists>)"
      ]
     },
     "execution_count": 23,
     "metadata": {},
     "output_type": "execute_result"
    },
    {
     "data": {
      "image/png": "[encoded data removed]",
      "text/plain": [
       "<Figure size 432x288 with 1 Axes>"
      ]
     },
     "metadata": {
      "needs_background": "light"
     },
     "output_type": "display_data"
    }
   ],
   "source": [
    "plt.hist(data.sepal_length,bins=30)"
   ]
  },
  {
   "cell_type": "markdown",
   "id": "78c6e089",
   "metadata": {},
   "source": [
    "# Train-Test Split\n",
    "This cell splits the dataset into training and testing sets."
   ]
  },
  {
   "cell_type": "code",
   "execution_count": 6,
   "id": "bff74cd4",
   "metadata": {},
   "outputs": [],
   "source": [
    "X_train,X_test,y_train,y_test=train_test_split(X,y,test_size=0.2,random_state=45)"
   ]
  },
  {
   "cell_type": "markdown",
   "id": "4ae6186b",
   "metadata": {},
   "source": [
    "# Logistic Regression Model\n",
    "This cell trains a logistic regression model and evaluates its performance."
   ]
  },
  {
   "cell_type": "code",
   "execution_count": 46,
   "id": "915f70ad",
   "metadata": {},
   "outputs": [
    {
     "name": "stdout",
     "output_type": "stream",
     "text": [
      "score train 0.9658119658119658\n",
      "score test 0.9666666666666667\n",
      "classes ['Iris-setosa' 'Iris-versicolor' 'Iris-virginica']\n",
      "                 precision    recall  f1-score   support\n",
      "\n",
      "    Iris-setosa       1.00      1.00      1.00         8\n",
      "Iris-versicolor       0.92      1.00      0.96        11\n",
      " Iris-virginica       1.00      0.91      0.95        11\n",
      "\n",
      "       accuracy                           0.97        30\n",
      "      macro avg       0.97      0.97      0.97        30\n",
      "   weighted avg       0.97      0.97      0.97        30\n",
      "\n",
      "[[ 8  0  0]\n",
      " [ 0 11  0]\n",
      " [ 0  1 10]]\n"
     ]
    },
    {
     "data": {
      "image/png": "[encoded data removed]",
      "text/plain": [
       "<Figure size 432x288 with 2 Axes>"
      ]
     },
     "metadata": {
      "needs_background": "light"
     },
     "output_type": "display_data"
    },
    {
     "data": {
      "text/plain": [
       "1.0"
      ]
     },
     "execution_count": 46,
     "metadata": {},
     "output_type": "execute_result"
    }
   ],
   "source": [
    "model=LogisticRegression()\n",
    "model.fit(X_train,y_train)\n",
    "print(\"score train\",model.score(X_train,y_train))\n",
    "print(\"score test\",model.score(X_test,y_test))\n",
    "print(\"classes\",model.classes_)\n",
    "# print(\"iter\",model.n_iter_)\n",
    "y_pred=model.predict(X_test)\n",
    "y_pred_probablity=model.predict_proba(X_test)\n",
    "print(classification_report(y_test,y_pred))\n",
    "cm=confusion_matrix(y_test,y_pred)\n",
    "print(cm)\n",
    "sns.heatmap(cm)\n",
    "plt.show()\n",
    "y_pred_probablity2=model.predict_proba(X_test)\n",
    "roc_auc_score(y_test,y_pred_probablity,multi_class='ovr')"
   ]
  },
  {
   "cell_type": "markdown",
   "id": "08e0e27a",
   "metadata": {},
   "source": [
    "# Decision Tree Classifier Model\n",
    "This cell trains a decision tree classifier model and evaluates its performance."
   ]
  },
  {
   "cell_type": "code",
   "execution_count": 47,
   "id": "16bd4522",
   "metadata": {},
   "outputs": [
    {
     "name": "stdout",
     "output_type": "stream",
     "text": [
      "score train 1.0\n",
      "score test 0.9666666666666667\n",
      "classes ['Iris-setosa' 'Iris-versicolor' 'Iris-virginica']\n",
      "                 precision    recall  f1-score   support\n",
      "\n",
      "    Iris-setosa       1.00      1.00      1.00         8\n",
      "Iris-versicolor       0.92      1.00      0.96        11\n",
      " Iris-virginica       1.00      0.91      0.95        11\n",
      "\n",
      "       accuracy                           0.97        30\n",
      "      macro avg       0.97      0.97      0.97        30\n",
      "   weighted avg       0.97      0.97      0.97        30\n",
      "\n",
      "[[ 8  0  0]\n",
      " [ 0 11  0]\n",
      " [ 0  1 10]]\n"
     ]
    },
    {
     "data": {
      "image/png": "[encoded data removed]",
      "text/plain": [
       "<Figure size 432x288 with 2 Axes>"
      ]
     },
     "metadata": {
      "needs_background": "light"
     },
     "output_type": "display_data"
    },
    {
     "data": {
      "text/plain": [
       "0.9760765550239235"
      ]
     },
     "execution_count": 47,
     "metadata": {},
     "output_type": "execute_result"
    }
   ],
   "source": [
    "model=DecisionTreeClassifier()\n",
    "model.fit(X_train,y_train)\n",
    "print(\"score train\",model.score(X_train,y_train))\n",
    "print(\"score test\",model.score(X_test,y_test))\n",
    "print(\"classes\",model.classes_)\n",
    "# print(\"iter\",model.n_iter_)\n",
    "y_pred=model.predict(X_test)\n",
    "y_pred_probablity=model.predict_proba(X_test)\n",
    "print(classification_report(y_test,y_pred))\n",
    "cm=confusion_matrix(y_test,y_pred)\n",
    "print(cm)\n",
    "sns.heatmap(cm)\n",
    "plt.show()\n",
    "y_pred_probablity2=model.predict_proba(X_test)\n",
    "roc_auc_score(y_test,y_pred_probablity,multi_class='ovr')"
   ]
  },
  {
   "cell_type": "markdown",
   "id": "a7202cfd",
   "metadata": {},
   "source": [
    "# Random Forest Classifier Model\n",
    "This cell trains a random forest classifier model and evaluates its performance."
   ]
  },
  {
   "cell_type": "code",
   "execution_count": 48,
   "id": "f428a373",
   "metadata": {},
   "outputs": [
    {
     "name": "stdout",
     "output_type": "stream",
     "text": [
      "score train 1.0\n",
      "score test 0.9666666666666667\n",
      "classes ['Iris-setosa' 'Iris-versicolor' 'Iris-virginica']\n",
      "                 precision    recall  f1-score   support\n",
      "\n",
      "    Iris-setosa       1.00      1.00      1.00         8\n",
      "Iris-versicolor       0.92      1.00      0.96        11\n",
      " Iris-virginica       1.00      0.91      0.95        11\n",
      "\n",
      "       accuracy                           0.97        30\n",
      "      macro avg       0.97      0.97      0.97        30\n",
      "   weighted avg       0.97      0.97      0.97        30\n",
      "\n",
      "[[ 8  0  0]\n",
      " [ 0 11  0]\n",
      " [ 0  1 10]]\n"
     ]
    },
    {
     "data": {
      "image/png": "[encoded data removed]",
      "text/plain": [
       "<Figure size 432x288 with 2 Axes>"
      ]
     },
     "metadata": {
      "needs_background": "light"
     },
     "output_type": "display_data"
    },
    {
     "data": {
      "text/plain": [
       "0.996810207336523"
      ]
     },
     "execution_count": 48,
     "metadata": {},
     "output_type": "execute_result"
    }
   ],
   "source": [
    "model=RandomForestClassifier()\n",
    "model.fit(X_train,y_train)\n",
    "print(\"score train\",model.score(X_train,y_train))\n",
    "print(\"score test\",model.score(X_test,y_test))\n",
    "print(\"classes\",model.classes_)\n",
    "# print(\"iter\",model.n_iter_)\n",
    "y_pred=model.predict(X_test)\n",
    "y_pred_probablity=model.predict_proba(X_test)\n",
    "print(classification_report(y_test,y_pred))\n",
    "cm=confusion_matrix(y_test,y_pred)\n",
    "print(cm)\n",
    "sns.heatmap(cm)\n",
    "plt.show()\n",
    "y_pred_probablity2=model.predict_proba(X_test)\n",
    "roc_auc_score(y_test,y_pred_probablity,multi_class='ovr')"
   ]
  },
  {
   "cell_type": "markdown",
   "id": "ad962f08",
   "metadata": {},
   "source": [
    "# SGD Classifier Model\n",
    "This cell trains a stochastic gradient descent (SGD) classifier model and evaluates its performance."
   ]
  },
  {
   "cell_type": "code",
   "execution_count": 51,
   "id": "b94348f7",
   "metadata": {},
   "outputs": [
    {
     "name": "stdout",
     "output_type": "stream",
     "text": [
      "score train 0.5811965811965812\n",
      "score test 0.6\n",
      "classes ['Iris-setosa' 'Iris-versicolor' 'Iris-virginica']\n",
      "                 precision    recall  f1-score   support\n",
      "\n",
      "    Iris-setosa       0.47      1.00      0.64         8\n",
      "Iris-versicolor       0.57      0.36      0.44        11\n",
      " Iris-virginica       1.00      0.55      0.71        11\n",
      "\n",
      "       accuracy                           0.60        30\n",
      "      macro avg       0.68      0.64      0.60        30\n",
      "   weighted avg       0.70      0.60      0.59        30\n",
      "\n",
      "[[8 0 0]\n",
      " [7 4 0]\n",
      " [2 3 6]]\n"
     ]
    },
    {
     "data": {
      "image/png": "[encoded data removed]",
      "text/plain": [
       "<Figure size 432x288 with 2 Axes>"
      ]
     },
     "metadata": {
      "needs_background": "light"
     },
     "output_type": "display_data"
    }
   ],
   "source": [
    "model=SGDClassifier()\n",
    "model.fit(X_train,y_train)\n",
    "print(\"score train\",model.score(X_train,y_train))\n",
    "print(\"score test\",model.score(X_test,y_test))\n",
    "print(\"classes\",model.classes_)\n",
    "# print(\"iter\",model.n_iter_)\n",
    "y_pred=model.predict(X_test)\n",
    "# y_pred_probablity=model.predict_proba(X_test)\n",
    "print(classification_report(y_test,y_pred))\n",
    "cm=confusion_matrix(y_test,y_pred)\n",
    "print(cm)\n",
    "sns.heatmap(cm)\n",
    "plt.show()\n",
    "# y_pred_probablity2=model.predict_proba(X_test)\n",
    "# roc_auc_score(y_test,y_pred_probablity,multi_class='ovr')"
   ]
  },
  {
   "cell_type": "markdown",
   "id": "70140402",
   "metadata": {},
   "source": [
    "# Support Vector Classifier Model\n",
    "This cell trains a support vector classifier (SVC) model with a polynomial kernel and evaluates its performance."
   ]
  },
  {
   "cell_type": "code",
   "execution_count": 55,
   "id": "30770608",
   "metadata": {},
   "outputs": [
    {
     "name": "stdout",
     "output_type": "stream",
     "text": [
      "score train 0.9658119658119658\n",
      "score test 1.0\n",
      "classes ['Iris-setosa' 'Iris-versicolor' 'Iris-virginica']\n",
      "                 precision    recall  f1-score   support\n",
      "\n",
      "    Iris-setosa       1.00      1.00      1.00         8\n",
      "Iris-versicolor       1.00      1.00      1.00        11\n",
      " Iris-virginica       1.00      1.00      1.00        11\n",
      "\n",
      "       accuracy                           1.00        30\n",
      "      macro avg       1.00      1.00      1.00        30\n",
      "   weighted avg       1.00      1.00      1.00        30\n",
      "\n",
      "[[ 8  0  0]\n",
      " [ 0 11  0]\n",
      " [ 0  0 11]]\n"
     ]
    },
    {
     "data": {
      "image/png": "[encoded data removed]",
      "text/plain": [
       "<Figure size 432x288 with 2 Axes>"
      ]
     },
     "metadata": {
      "needs_background": "light"
     },
     "output_type": "display_data"
    }
   ],
   "source": [
    "model=SVC(kernel=\"poly\")\n",
    "model.fit(X_train,y_train)\n",
    "print(\"score train\",model.score(X_train,y_train))\n",
    "print(\"score test\",model.score(X_test,y_test))\n",
    "print(\"classes\",model.classes_)\n",
    "# print(\"iter\",model.n_iter_)\n",
    "y_pred=model.predict(X_test)\n",
    "# y_pred_probablity=model.predict_proba(X_test)\n",
    "print(classification_report(y_test,y_pred))\n",
    "cm=confusion_matrix(y_test,y_pred)\n",
    "print(cm)\n",
    "sns.heatmap(cm)\n",
    "plt.show()\n",
    "# y_pred_probablity2=model.predict_proba(X_test)\n",
    "# roc_auc_score(y_test,y_pred_probablity2,multi_class='ovr')"
   ]
  },
  {
   "cell_type": "markdown",
   "id": "92b688e9",
   "metadata": {},
   "source": [
    "# K-Nearest Neighbors Classifier Model\n",
    "This cell trains a k-nearest neighbors (KNN) classifier model and evaluates its performance."
   ]
  },
  {
   "cell_type": "code",
   "execution_count": 57,
   "id": "c7200332",
   "metadata": {},
   "outputs": [
    {
     "name": "stdout",
     "output_type": "stream",
     "text": [
      "score train 0.9572649572649573\n",
      "score test 1.0\n",
      "classes ['Iris-setosa' 'Iris-versicolor' 'Iris-virginica']\n",
      "                 precision    recall  f1-score   support\n",
      "\n",
      "    Iris-setosa       1.00      1.00      1.00         8\n",
      "Iris-versicolor       1.00      1.00      1.00        11\n",
      " Iris-virginica       1.00      1.00      1.00        11\n",
      "\n",
      "       accuracy                           1.00        30\n",
      "      macro avg       1.00      1.00      1.00        30\n",
      "   weighted avg       1.00      1.00      1.00        30\n",
      "\n",
      "[[ 8  0  0]\n",
      " [ 0 11  0]\n",
      " [ 0  0 11]]\n"
     ]
    },
    {
     "data": {
      "image/png": "[encoded data removed]",
      "text/plain": [
       "<Figure size 432x288 with 2 Axes>"
      ]
     },
     "metadata": {
      "needs_background": "light"
     },
     "output_type": "display_data"
    },
    {
     "data": {
      "text/plain": [
       "1.0"
      ]
     },
     "execution_count": 57,
     "metadata": {},
     "output_type": "execute_result"
    }
   ],
   "source": [
    "from sklearn.neighbors import KNeighborsClassifier\n",
    "model=KNeighborsClassifier(n_neighbors=5)\n",
    "model.fit(X_train,y_train)\n",
    "print(\"score train\",model.score(X_train,y_train))\n",
    "print(\"score test\",model.score(X_test,y_test))\n",
    "print(\"classes\",model.classes_)\n",
    "# print(\"iter\",model.n_iter_)\n",
    "y_pred=model.predict(X_test)\n",
    "y_pred_probablity=model.predict_proba(X_test)\n",
    "print(classification_report(y_test,y_pred))\n",
    "cm=confusion_matrix(y_test,y_pred)\n",
    "print(cm)\n",
    "sns.heatmap(cm)\n",
    "plt.show()\n",
    "y_pred_probablity2=model.predict_proba(X_test)\n",
    "roc_auc_score(y_test,y_pred_probablity,multi_class='ovr')"
   ]
  }
 ],
 "metadata": {
  "kernelspec": {
   "display_name": "base",
   "language": "python",
   "name": "python3"
  },
  "language_info": {
   "codemirror_mode": {
    "name": "ipython",
    "version": 3
   },
   "file_extension": ".py",
   "mimetype": "text/x-python",
   "name": "python",
   "nbconvert_exporter": "python",
   "pygments_lexer": "ipython3",
   "version": "3.9.12"
  }
 },
 "nbformat": 4,
 "nbformat_minor": 5
}
